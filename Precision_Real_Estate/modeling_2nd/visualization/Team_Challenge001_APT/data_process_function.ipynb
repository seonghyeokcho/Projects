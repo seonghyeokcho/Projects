{
 "cells": [
  {
   "cell_type": "code",
   "execution_count": 1,
   "metadata": {},
   "outputs": [],
   "source": [
    "# 지역별로 분할하는 함수\n",
    "def local_call(local_key):\n",
    "    if local_key == '강남구': local = apt_강남구\n",
    "    elif local_key == '강동구' : local = apt_강동구\n",
    "    elif local_key == '강북구' : local = apt_강북구\n",
    "    elif local_key == '강서구' : local = apt_강서구\n",
    "    elif local_key == '관악구' : local = apt_관악구\n",
    "    elif local_key == '광진구' : local = apt_광진구\n",
    "    elif local_key == '구로구' : local = apt_구로구\n",
    "    elif local_key == '금천구' : local = apt_금천구\n",
    "    elif local_key == '노원구' : local = apt_노원구\n",
    "    elif local_key == '도봉구' : local = apt_도봉구\n",
    "    elif local_key == '동대문구' : local = apt_동대문구\n",
    "    elif local_key == '동작구' : local = apt_동작구\n",
    "    elif local_key == '마포구' : local = apt_마포구\n",
    "    elif local_key == '서대문구' : local = apt_서대문구\n",
    "    elif local_key == '서초구' : local = apt_서초구\n",
    "    elif local_key == '성동구' : local = apt_성동구\n",
    "    elif local_key == '성북구' : local = apt_성북구\n",
    "    elif local_key == '송파구' : local = apt_송파구\n",
    "    elif local_key == '양천구' : local = apt_양천구\n",
    "    elif local_key == '영등포구' : local = apt_영등포구\n",
    "    elif local_key == '용산구' : local = apt_용산구\n",
    "    elif local_key == '은평구' : local = apt_은평구\n",
    "    elif local_key == '종로구' : local = apt_종로구\n",
    "    elif local_key == '중구' : local = apt_중구\n",
    "    elif local_key == '중랑구' : local = apt_중랑구\n",
    "        \n",
    "    return local"
   ]
  },
  {
   "cell_type": "code",
   "execution_count": null,
   "metadata": {},
   "outputs": [],
   "source": []
  },
  {
   "cell_type": "code",
   "execution_count": 2,
   "metadata": {},
   "outputs": [],
   "source": [
    "def year_per_sales(df):\n",
    "    year = df['계약연도'].unique()\n",
    "    year_local = pd.DataFrame({'계약연도' : year, '평균거래가':np.nan})\n",
    "    for i in range(len(year_local)):\n",
    "        year_local['평균거래가'].iloc[i] = df[df['계약연도']==year_local['계약연도'].iloc[i]]['거래금액(만원)'].mean()\n",
    "    \n",
    "    return year_local"
   ]
  },
  {
   "cell_type": "code",
   "execution_count": null,
   "metadata": {},
   "outputs": [],
   "source": []
  }
 ],
 "metadata": {
  "kernelspec": {
   "display_name": "Python 3",
   "language": "python",
   "name": "python3"
  },
  "language_info": {
   "codemirror_mode": {
    "name": "ipython",
    "version": 3
   },
   "file_extension": ".py",
   "mimetype": "text/x-python",
   "name": "python",
   "nbconvert_exporter": "python",
   "pygments_lexer": "ipython3",
   "version": "3.7.6"
  }
 },
 "nbformat": 4,
 "nbformat_minor": 4
}
