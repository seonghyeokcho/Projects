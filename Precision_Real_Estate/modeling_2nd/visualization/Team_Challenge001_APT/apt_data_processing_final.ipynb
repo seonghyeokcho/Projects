{
 "cells": [
  {
   "cell_type": "code",
   "execution_count": 4,
   "metadata": {},
   "outputs": [],
   "source": [
    "import pandas as pd\n",
    "import numpy as np\n",
    "import math\n",
    "import sys\n",
    "mod = sys.modules[__name__]\n",
    "import os\n",
    "import datetime\n",
    "import requests\n",
    "import json"
   ]
  },
  {
   "cell_type": "code",
   "execution_count": 25,
   "metadata": {},
   "outputs": [],
   "source": [
    "%run data_process_function.ipynb"
   ]
  },
  {
   "cell_type": "markdown",
   "metadata": {},
   "source": [
    "# 데이터 전체 불러오기"
   ]
  },
  {
   "cell_type": "code",
   "execution_count": 9,
   "metadata": {},
   "outputs": [],
   "source": [
    "sales_001 = pd.read_csv('train.csv', encoding='cp949')\n",
    "sales_002 = pd.read_csv('test.csv', encoding='cp949')\n",
    "merged_sales = pd.concat([sales_001, sales_002])\n",
    "\n",
    "dong = pd.read_csv('dong_code.csv', encoding='cp949')\n",
    "dong = pd.DataFrame(dong, columns = ['시군구명', '읍면동명', '법정동코드'])"
   ]
  },
  {
   "cell_type": "code",
   "execution_count": 10,
   "metadata": {},
   "outputs": [],
   "source": [
    "# 데이터 전처리\n",
    "merged_sales['시도명'], merged_sales['시군구명'], merged_sales['읍면동명'] = merged_sales['시군구'].str.split(' ', 2).str\n",
    "merged_sales = merged_sales.astype({'계약년월':'str'}) # 현재 자료형이 맞지않아 강제형변환\n",
    "merged_sales['계약연도'] = merged_sales['계약년월'].str.slice(0,4)\n",
    "merged_sales['계약월'] = merged_sales['계약년월'].str.slice(4,)\n",
    "merged_sales['거래금액(만원)'] = merged_sales['거래금액(만원)'].str.replace(pat=r'[^A-Za-z0-9]', repl= r'', regex=True)"
   ]
  },
  {
   "cell_type": "code",
   "execution_count": 11,
   "metadata": {},
   "outputs": [],
   "source": [
    "# '시군구명' 과 '읍면동명' 을 기준으로 법정동 코드 삽입\n",
    "merged_sales = pd.merge(merged_sales, dong, on=['시군구명', '읍면동명'], \n",
    "                       how='left')\n",
    "# 중복값 제거\n",
    "merged_sales = merged_sales.drop_duplicates()"
   ]
  },
  {
   "cell_type": "code",
   "execution_count": 13,
   "metadata": {},
   "outputs": [],
   "source": [
    "merged_sales = merged_sales[['시도명', '시군구명', '읍면동명', '단지명', \n",
    "                             '전용면적(㎡)', '층', '계약연도', '계약월', \n",
    "                             '거래금액(만원)', '도로명', '위도', '경도', '건축년도',\n",
    "                             '법정동코드']]"
   ]
  },
  {
   "cell_type": "code",
   "execution_count": 15,
   "metadata": {},
   "outputs": [],
   "source": [
    "# 도로명주소 존재하지 않는 데이터 drop\n",
    "merged_sales = merged_sales.drop(merged_sales[merged_sales['도로명']==' '].index)"
   ]
  },
  {
   "cell_type": "code",
   "execution_count": 19,
   "metadata": {},
   "outputs": [],
   "source": [
    "# 불러온 데이터 저장\n",
    "# merged_sales.to_csv('sales_apt_all.csv', encoding='cp949')"
   ]
  },
  {
   "cell_type": "markdown",
   "metadata": {},
   "source": [
    "# 데이터 분할"
   ]
  },
  {
   "cell_type": "code",
   "execution_count": 20,
   "metadata": {},
   "outputs": [],
   "source": [
    "# 전체 데이터 불러오기\n",
    "# merged_sales = pd.read_csv('sales_apt_all.csv', encoding='cp949')"
   ]
  },
  {
   "cell_type": "code",
   "execution_count": 21,
   "metadata": {},
   "outputs": [],
   "source": [
    "# 전체 데이터를 지역별로 분할\n",
    "for i in range(len(merged_sales['시군구명'].unique())) :\n",
    "    setattr(mod, 'apt_{}'.format(merged_sales['시군구명'].unique()[i]), merged_sales[merged_sales['시군구명']==merged_sales['시군구명'].unique()[i]])"
   ]
  },
  {
   "cell_type": "code",
   "execution_count": 23,
   "metadata": {},
   "outputs": [],
   "source": [
    "# 분할된 지역별 데이터 to_csv\n",
    "\n",
    "# apt_강남구.to_csv('지역구별_매매가/apt_sales_강남구.csv', encoding='cp949')\n",
    "# apt_강동구.to_csv('지역구별_매매가/apt_sales_강동구.csv', encoding='cp949')\n",
    "# apt_강북구.to_csv('지역구별_매매가/apt_sales_강북구.csv', encoding='cp949')\n",
    "# apt_강서구.to_csv('지역구별_매매가/apt_sales_강서구.csv', encoding='cp949')\n",
    "# apt_관악구.to_csv('지역구별_매매가/apt_sales_관악구.csv', encoding='cp949')\n",
    "# apt_광진구.to_csv('지역구별_매매가/apt_sales_광진구.csv', encoding='cp949')\n",
    "# apt_구로구.to_csv('지역구별_매매가/apt_sales_구로구.csv', encoding='cp949')\n",
    "# apt_금천구.to_csv('지역구별_매매가/apt_sales_금천구.csv', encoding='cp949')\n",
    "# apt_노원구.to_csv('지역구별_매매가/apt_sales_노원구.csv', encoding='cp949')\n",
    "# apt_도봉구.to_csv('지역구별_매매가/apt_sales_도봉구.csv', encoding='cp949')\n",
    "# apt_동대문구.to_csv('지역구별_매매가/apt_sales_동대문구.csv', encoding='cp949')\n",
    "# apt_동작구.to_csv('지역구별_매매가/apt_sales_동작구.csv', encoding='cp949')\n",
    "# apt_마포구.to_csv('지역구별_매매가/apt_sales_마포구.csv', encoding='cp949')\n",
    "# apt_서대문구.to_csv('지역구별_매매가/apt_sales_서대문구.csv', encoding='cp949')\n",
    "# apt_서초구.to_csv('지역구별_매매가/apt_sales_서초구.csv', encoding='cp949')\n",
    "# apt_성동구.to_csv('지역구별_매매가/apt_sales_성동구.csv', encoding='cp949')\n",
    "# apt_성북구.to_csv('지역구별_매매가/apt_sales_성북구.csv', encoding='cp949')\n",
    "# apt_송파구.to_csv('지역구별_매매가/apt_sales_송파구.csv', encoding='cp949')\n",
    "# apt_양천구.to_csv('지역구별_매매가/apt_sales_양천구.csv', encoding='cp949')\n",
    "# apt_영등포구.to_csv('지역구별_매매가/apt_sales_영등포구.csv', encoding='cp949')\n",
    "# apt_용산구.to_csv('지역구별_매매가/apt_sales_용산구.csv', encoding='cp949')\n",
    "# apt_은평구.to_csv('지역구별_매매가/apt_sales_은평구.csv', encoding='cp949')\n",
    "# apt_종로구.to_csv('지역구별_매매가/apt_sales_종로구.csv', encoding='cp949')\n",
    "# apt_중구.to_csv('지역구별_매매가/apt_sales_중구.csv', encoding='cp949')\n",
    "# apt_중랑구.to_csv('지역구별_매매가/apt_sales_중랑구.csv', encoding='cp949')"
   ]
  }
 ],
 "metadata": {
  "kernelspec": {
   "display_name": "Python 3",
   "language": "python",
   "name": "python3"
  },
  "language_info": {
   "codemirror_mode": {
    "name": "ipython",
    "version": 3
   },
   "file_extension": ".py",
   "mimetype": "text/x-python",
   "name": "python",
   "nbconvert_exporter": "python",
   "pygments_lexer": "ipython3",
   "version": "3.7.6"
  }
 },
 "nbformat": 4,
 "nbformat_minor": 4
}
