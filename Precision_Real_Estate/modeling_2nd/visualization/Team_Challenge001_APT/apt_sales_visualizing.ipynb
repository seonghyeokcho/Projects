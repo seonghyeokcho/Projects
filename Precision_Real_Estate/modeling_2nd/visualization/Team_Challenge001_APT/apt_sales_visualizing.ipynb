{
 "cells": [
  {
   "cell_type": "code",
   "execution_count": 1,
   "metadata": {},
   "outputs": [],
   "source": [
    "import pandas as pd\n",
    "import numpy as np\n",
    "import math\n",
    "import sys\n",
    "mod = sys.modules[__name__]\n",
    "import os\n",
    "import datetime\n",
    "import requests\n",
    "import json\n",
    "\n",
    "# 시각화 모듈\n",
    "import matplotlib\n",
    "import matplotlib.pyplot as plt\n",
    "plt.rc('font', family='NanumGothic')\n",
    "# %matplotlib inline\n",
    "%matplotlib tk\n",
    "# %matplotlib qt5\n",
    "import seaborn as sns\n",
    "\n",
    "import warnings\n",
    "warnings.filterwarnings(action='ignore')"
   ]
  },
  {
   "cell_type": "code",
   "execution_count": 2,
   "metadata": {},
   "outputs": [],
   "source": [
    "%run apt_data_processing_final.ipynb"
   ]
  },
  {
   "cell_type": "markdown",
   "metadata": {},
   "source": [
    "# 데이터 시각화"
   ]
  },
  {
   "cell_type": "code",
   "execution_count": null,
   "metadata": {},
   "outputs": [
    {
     "name": "stdout",
     "output_type": "stream",
     "text": [
      "---- 서울시 내 지역구 리스트 ----\n",
      "['강남구' '강동구' '강북구' '강서구' '관악구' '광진구' '구로구' '금천구' '노원구' '도봉구' '동대문구' '동작구'\n",
      " '마포구' '서대문구' '서초구' '성동구' '성북구' '송파구' '양천구' '영등포구' '용산구' '은평구' '종로구' '중구'\n",
      " '중랑구']\n"
     ]
    }
   ],
   "source": [
    "while True:\n",
    "    print('---- 서울시 내 지역구 리스트 ----')\n",
    "    print(merged_sales['시군구명'].unique())\n",
    "    local_key = input(\"원하는 지역을 입력(종료시 엔터) >> \")\n",
    "    \n",
    "    if len(local_key) != 0:\n",
    "        local = local_call(local_key)\n",
    "\n",
    "    else : \n",
    "        print(\"** 해당 지역은 존재하지 않습니다. **\")\n",
    "        break\n",
    "        \n",
    "    print()\n",
    "    print('---- 해당지역 읍면동명 리스트 ----')\n",
    "    print(local['읍면동명'].unique())\n",
    "    town_key = input(\"원하는 읍면동을 입력(종료시 엔터) >> \")\n",
    "    \n",
    "    if len(town_key)==0: break\n",
    "    else :\n",
    "        local = local[local['읍면동명']==town_key]\n",
    "        break\n",
    "        \n",
    "local = local.astype({'거래금액(만원)':'int'})"
   ]
  },
  {
   "cell_type": "code",
   "execution_count": 12,
   "metadata": {},
   "outputs": [
    {
     "data": {
      "text/plain": [
       "<function matplotlib.pyplot.show(*args, **kw)>"
      ]
     },
     "execution_count": 12,
     "metadata": {},
     "output_type": "execute_result"
    }
   ],
   "source": [
    "# 연도별 전체 매물 평균 매매가\n",
    "year = local['계약연도'].unique()\n",
    "year_local = pd.DataFrame({'계약연도' : year, '평균거래가':np.nan})\n",
    "for i in range(len(year_local)):\n",
    "    year_local['평균거래가'].iloc[i] = local[local['계약연도']==year_local['계약연도'].iloc[i]]['거래금액(만원)'].mean()\n",
    "\n",
    "plt.plot(year_local['계약연도'], year_local['평균거래가'])\n",
    "plt.xlabel('계약연도')\n",
    "plt.ylabel('평균거래가(만원)')\n",
    "plt.title('연도별 평균 매매가')\n",
    "plt.legend([local_key])\n",
    "plt.show   "
   ]
  },
  {
   "cell_type": "code",
   "execution_count": 13,
   "metadata": {},
   "outputs": [],
   "source": [
    "# 연도별 전체 매물 평균 매매가\n",
    "year = local['계약연도'].unique()\n",
    "year_local = pd.DataFrame({'계약연도' : year, '평균거래가':np.nan})\n",
    "for i in range(len(year_local)):\n",
    "    year_local['평균거래가'].iloc[i] = local[local['계약연도']==year_local['계약연도'].iloc[i]]['거래금액(만원)'].mean()\n",
    "\n",
    "\n",
    "plt.subplots(4,1,figsize=(8,15))\n",
    "\n",
    "plt.subplot(4,1,1)\n",
    "\n",
    "plt.plot(year_local['계약연도'], year_local['평균거래가'])\n",
    "plt.xlabel('계약연도')\n",
    "plt.ylabel('평균거래가(만원)')\n",
    "plt.title('연도별 평균 매매가')\n",
    "plt.legend([local_key])\n",
    "plt.show    \n",
    "\n",
    "# 연도별 아파트 평수에 따른 평균 매매가\n",
    "plt.subplot(4,1,2)\n",
    "\n",
    "local_00 = local[local['전용면적(㎡)'] < 33.06]\n",
    "year_local = year_per_sales(local_00)\n",
    "plt.plot(year_local['계약연도'], year_local['평균거래가'])\n",
    "# plt.plot(year_local['계약연도'], year_local['평균거래가'], 'or')\n",
    "\n",
    "local_10 = local[(local['전용면적(㎡)']>=33.06) & (local['전용면적(㎡)']<66.12)]\n",
    "year_local = year_per_sales(local_10)\n",
    "plt.plot(year_local['계약연도'], year_local['평균거래가'])\n",
    "# plt.plot(year_local['계약연도'], year_local['평균거래가'], 'or')\n",
    "\n",
    "local_20 = local[(local['전용면적(㎡)']>=66.12) & (local['전용면적(㎡)']<99.17)]\n",
    "year_local = year_per_sales(local_20)\n",
    "plt.plot(year_local['계약연도'], year_local['평균거래가'])\n",
    "# plt.plot(year_local['계약연도'], year_local['평균거래가'], 'or')\n",
    "\n",
    "local_30 = local[(local['전용면적(㎡)']>=99.17) & (local['전용면적(㎡)']<132.23)]\n",
    "year_local = year_per_sales(local_30)\n",
    "plt.plot(year_local['계약연도'], year_local['평균거래가'])\n",
    "# plt.plot(year_local['계약연도'], year_local['평균거래가'], 'or')\n",
    "\n",
    "local_40 = local[(local['전용면적(㎡)']>=132.23) & (local['전용면적(㎡)']<165.29)]\n",
    "year_local = year_per_sales(local_40)\n",
    "plt.plot(year_local['계약연도'], year_local['평균거래가'])\n",
    "# plt.plot(year_local['계약연도'], year_local['평균거래가'], 'or')\n",
    "\n",
    "local_50 = local[(local['전용면적(㎡)']>=165.29) & (local['전용면적(㎡)']<198.35)]\n",
    "year_local = year_per_sales(local_50)\n",
    "plt.plot(year_local['계약연도'], year_local['평균거래가'])\n",
    "# plt.plot(year_local['계약연도'], year_local['평균거래가'], 'or')\n",
    "\n",
    "local_60 = local[(local['전용면적(㎡)']>=198.35) & (local['전용면적(㎡)']<231.4)]\n",
    "year_local = year_per_sales(local_60)\n",
    "plt.plot(year_local['계약연도'], year_local['평균거래가'])\n",
    "# plt.plot(year_local['계약연도'], year_local['평균거래가'], 'or')\n",
    "\n",
    "local_70 = local[local['전용면적(㎡)']>=231.4]\n",
    "year_local = year_per_sales(local_70)\n",
    "plt.plot(year_local['계약연도'], year_local['평균거래가'])\n",
    "# plt.plot(year_local['계약연도'], year_local['평균거래가'], 'or')\n",
    "\n",
    "\n",
    "plt.xlabel('계약연도')\n",
    "plt.ylabel('평균거래가(만원)')\n",
    "plt.title('연도에따른 평수별 평균 매매가')\n",
    "plt.legend(['10평미만', '10평대', '20평대', '30평대', '40평대', ' 50평대', '60평대', '70평이상'])\n",
    "plt.show\n",
    "\n",
    "# 연도별 최고/최저가 변화 추이\n",
    "year = local['계약연도'].unique()\n",
    "year_local = pd.DataFrame({'계약연도' : year, '최고가':np.nan, '최저가':np.nan})\n",
    "for i in range(len(year_local)):\n",
    "    year_local['최고가'].iloc[i] = local[local['계약연도']==year_local['계약연도'].iloc[i]]['거래금액(만원)'].max()\n",
    "    year_local['최저가'].iloc[i] = local[local['계약연도']==year_local['계약연도'].iloc[i]]['거래금액(만원)'].min()\n",
    "\n",
    "plt.subplot(4,1,3)\n",
    "plt.plot(year_local['계약연도'], year_local['최고가'])\n",
    "plt.plot(year_local['계약연도'], year_local['최저가'])\n",
    "\n",
    "plt.xlabel('계약연도')\n",
    "plt.ylabel('거래가(만원)')\n",
    "plt.title('연도에따른 최고/최저 매매가')\n",
    "plt.legend(['최고가', '최저가'])\n",
    "plt.show\n",
    "\n",
    "# 연도별 층수(저층, 로얄층, 고층, 초고층) 에 따른 평균 매매가\n",
    "\n",
    "plt.tight_layout()"
   ]
  },
  {
   "cell_type": "code",
   "execution_count": null,
   "metadata": {},
   "outputs": [],
   "source": []
  }
 ],
 "metadata": {
  "kernelspec": {
   "display_name": "Python 3",
   "language": "python",
   "name": "python3"
  },
  "language_info": {
   "codemirror_mode": {
    "name": "ipython",
    "version": 3
   },
   "file_extension": ".py",
   "mimetype": "text/x-python",
   "name": "python",
   "nbconvert_exporter": "python",
   "pygments_lexer": "ipython3",
   "version": "3.7.6"
  }
 },
 "nbformat": 4,
 "nbformat_minor": 4
}
