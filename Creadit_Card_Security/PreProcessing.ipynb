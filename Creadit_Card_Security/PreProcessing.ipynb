{
 "metadata": {
  "language_info": {
   "codemirror_mode": {
    "name": "ipython",
    "version": 3
   },
   "file_extension": ".py",
   "mimetype": "text/x-python",
   "name": "python",
   "nbconvert_exporter": "python",
   "pygments_lexer": "ipython3",
   "version": "3.7.6-final"
  },
  "orig_nbformat": 2,
  "kernelspec": {
   "name": "python_defaultSpec_1597395585565",
   "display_name": "Python 3.7.6 64-bit ('base': conda)"
  }
 },
 "nbformat": 4,
 "nbformat_minor": 2,
 "cells": [
  {
   "cell_type": "code",
   "execution_count": 1,
   "metadata": {},
   "outputs": [],
   "source": [
    "import pandas as pd\n",
    "import numpy as np\n",
    "\n",
    "from sklearn.preprocessing import MinMaxScaler\n",
    "\n",
    "from time import sleep\n",
    "import datetime"
   ]
  },
  {
   "cell_type": "markdown",
   "metadata": {},
   "source": [
    "dataset1(19.9.11 20:00:00 ~ 19.9.15 09:59:59)<br>\n",
    "testset1(19.10.29 11:00:00 ~ 19.11.01 19:59:59)<br>\n",
    "dataset2(19.11.01 20:00:00 ~ 19.11.04 14:59:59)<br>\n",
    "testset2(19.11.04 15:00:00 ~ 19.11.06 9:29:59)"
   ]
  },
  {
   "cell_type": "code",
   "execution_count": 172,
   "metadata": {},
   "outputs": [],
   "source": [
    "testset1 = pd.read_csv('HAI 1.0/test-dataset/test1.csv', parse_dates=['time']).set_index('time')\n",
    "testset2 = pd.read_csv('HAI 1.0/test-dataset/test2.csv', parse_dates=['time']).set_index('time')"
   ]
  },
  {
   "cell_type": "code",
   "execution_count": 173,
   "metadata": {},
   "outputs": [
    {
     "output_type": "execute_result",
     "data": {
      "text/plain": "                     P1_B2004  P1_B2016  P1_B3004   P1_B3005  P1_B4002  \\\ntime                                                                     \n2019-10-29 11:00:00    0.0982     1.461  461.9883  1099.7363      32.0   \n\n                     P1_B4005  P1_B400B  P1_B4022  P1_FCV01D  P1_FCV01Z  ...  \\\ntime                                                                     ...   \n2019-10-29 11:00:00       0.0  113.4112    35.907     9.2526     9.7824  ...   \n\n                     P4_ST_FD  P4_ST_LD  P4_ST_PO  P4_ST_PS  P4_ST_PT01  \\\ntime                                                                      \n2019-10-29 11:00:00   -0.0027  355.4688  349.6998       0.0     10053.0   \n\n                     P4_ST_TT01  attack  attack_P1  attack_P2  attack_P3  \ntime                                                                      \n2019-10-29 11:00:00     27629.0       0          0          0          0  \n\n[1 rows x 63 columns]",
      "text/html": "<div>\n<style scoped>\n    .dataframe tbody tr th:only-of-type {\n        vertical-align: middle;\n    }\n\n    .dataframe tbody tr th {\n        vertical-align: top;\n    }\n\n    .dataframe thead th {\n        text-align: right;\n    }\n</style>\n<table border=\"1\" class=\"dataframe\">\n  <thead>\n    <tr style=\"text-align: right;\">\n      <th></th>\n      <th>P1_B2004</th>\n      <th>P1_B2016</th>\n      <th>P1_B3004</th>\n      <th>P1_B3005</th>\n      <th>P1_B4002</th>\n      <th>P1_B4005</th>\n      <th>P1_B400B</th>\n      <th>P1_B4022</th>\n      <th>P1_FCV01D</th>\n      <th>P1_FCV01Z</th>\n      <th>...</th>\n      <th>P4_ST_FD</th>\n      <th>P4_ST_LD</th>\n      <th>P4_ST_PO</th>\n      <th>P4_ST_PS</th>\n      <th>P4_ST_PT01</th>\n      <th>P4_ST_TT01</th>\n      <th>attack</th>\n      <th>attack_P1</th>\n      <th>attack_P2</th>\n      <th>attack_P3</th>\n    </tr>\n    <tr>\n      <th>time</th>\n      <th></th>\n      <th></th>\n      <th></th>\n      <th></th>\n      <th></th>\n      <th></th>\n      <th></th>\n      <th></th>\n      <th></th>\n      <th></th>\n      <th></th>\n      <th></th>\n      <th></th>\n      <th></th>\n      <th></th>\n      <th></th>\n      <th></th>\n      <th></th>\n      <th></th>\n      <th></th>\n      <th></th>\n    </tr>\n  </thead>\n  <tbody>\n    <tr>\n      <th>2019-10-29 11:00:00</th>\n      <td>0.0982</td>\n      <td>1.461</td>\n      <td>461.9883</td>\n      <td>1099.7363</td>\n      <td>32.0</td>\n      <td>0.0</td>\n      <td>113.4112</td>\n      <td>35.907</td>\n      <td>9.2526</td>\n      <td>9.7824</td>\n      <td>...</td>\n      <td>-0.0027</td>\n      <td>355.4688</td>\n      <td>349.6998</td>\n      <td>0.0</td>\n      <td>10053.0</td>\n      <td>27629.0</td>\n      <td>0</td>\n      <td>0</td>\n      <td>0</td>\n      <td>0</td>\n    </tr>\n  </tbody>\n</table>\n<p>1 rows × 63 columns</p>\n</div>"
     },
     "metadata": {},
     "execution_count": 173
    }
   ],
   "source": [
    "testset1.head(1)"
   ]
  },
  {
   "cell_type": "code",
   "execution_count": 174,
   "metadata": {},
   "outputs": [
    {
     "output_type": "execute_result",
     "data": {
      "text/plain": "                     P1_B2004  P1_B2016  P1_B3004   P1_B3005  P1_B4002  \\\ntime                                                                     \n2019-11-04 15:00:00    0.1001     1.527  395.3508  1120.8154   29.4139   \n\n                     P1_B4005  P1_B400B  P1_B4022  P1_FCV01D  P1_FCV01Z  ...  \\\ntime                                                                     ...   \n2019-11-04 15:00:00       0.0   32.9705   33.4784        0.0     0.2609  ...   \n\n                     P4_ST_FD  P4_ST_LD  P4_ST_PO  P4_ST_PS  P4_ST_PT01  \\\ntime                                                                      \n2019-11-04 15:00:00   -0.0009  366.8258  364.7823       0.0     10026.0   \n\n                     P4_ST_TT01  attack  attack_P1  attack_P2  attack_P3  \ntime                                                                      \n2019-11-04 15:00:00     27549.0       0          0          0          0  \n\n[1 rows x 63 columns]",
      "text/html": "<div>\n<style scoped>\n    .dataframe tbody tr th:only-of-type {\n        vertical-align: middle;\n    }\n\n    .dataframe tbody tr th {\n        vertical-align: top;\n    }\n\n    .dataframe thead th {\n        text-align: right;\n    }\n</style>\n<table border=\"1\" class=\"dataframe\">\n  <thead>\n    <tr style=\"text-align: right;\">\n      <th></th>\n      <th>P1_B2004</th>\n      <th>P1_B2016</th>\n      <th>P1_B3004</th>\n      <th>P1_B3005</th>\n      <th>P1_B4002</th>\n      <th>P1_B4005</th>\n      <th>P1_B400B</th>\n      <th>P1_B4022</th>\n      <th>P1_FCV01D</th>\n      <th>P1_FCV01Z</th>\n      <th>...</th>\n      <th>P4_ST_FD</th>\n      <th>P4_ST_LD</th>\n      <th>P4_ST_PO</th>\n      <th>P4_ST_PS</th>\n      <th>P4_ST_PT01</th>\n      <th>P4_ST_TT01</th>\n      <th>attack</th>\n      <th>attack_P1</th>\n      <th>attack_P2</th>\n      <th>attack_P3</th>\n    </tr>\n    <tr>\n      <th>time</th>\n      <th></th>\n      <th></th>\n      <th></th>\n      <th></th>\n      <th></th>\n      <th></th>\n      <th></th>\n      <th></th>\n      <th></th>\n      <th></th>\n      <th></th>\n      <th></th>\n      <th></th>\n      <th></th>\n      <th></th>\n      <th></th>\n      <th></th>\n      <th></th>\n      <th></th>\n      <th></th>\n      <th></th>\n    </tr>\n  </thead>\n  <tbody>\n    <tr>\n      <th>2019-11-04 15:00:00</th>\n      <td>0.1001</td>\n      <td>1.527</td>\n      <td>395.3508</td>\n      <td>1120.8154</td>\n      <td>29.4139</td>\n      <td>0.0</td>\n      <td>32.9705</td>\n      <td>33.4784</td>\n      <td>0.0</td>\n      <td>0.2609</td>\n      <td>...</td>\n      <td>-0.0009</td>\n      <td>366.8258</td>\n      <td>364.7823</td>\n      <td>0.0</td>\n      <td>10026.0</td>\n      <td>27549.0</td>\n      <td>0</td>\n      <td>0</td>\n      <td>0</td>\n      <td>0</td>\n    </tr>\n  </tbody>\n</table>\n<p>1 rows × 63 columns</p>\n</div>"
     },
     "metadata": {},
     "execution_count": 174
    }
   ],
   "source": [
    "testset2.head(1)"
   ]
  },
  {
   "cell_type": "code",
   "execution_count": 175,
   "metadata": {},
   "outputs": [],
   "source": [
    "scaler = MinMaxScaler()\n",
    "testset1[testset1.columns[:-4]] = scaler.fit_transform(testset1[testset1.columns[:-4]])\n",
    "testset2[testset2.columns[:-4]] = scaler.fit_transform(testset2[testset2.columns[:-4]])"
   ]
  },
  {
   "cell_type": "code",
   "execution_count": 176,
   "metadata": {},
   "outputs": [
    {
     "output_type": "execute_result",
     "data": {
      "text/plain": "                     P1_B2004  P1_B2016  P1_B3004  P1_B3005  P1_B4002  \\\ntime                                                                    \n2019-10-29 11:00:00  0.949509  0.583314  0.863839  0.901928       1.0   \n\n                     P1_B4005  P1_B400B  P1_B4022  P1_FCV01D  P1_FCV01Z  ...  \\\ntime                                                                     ...   \n2019-10-29 11:00:00       0.0  0.031333  0.778295   0.092526   0.094568  ...   \n\n                     P4_ST_FD  P4_ST_LD  P4_ST_PO  P4_ST_PS  P4_ST_PT01  \\\ntime                                                                      \n2019-10-29 11:00:00  0.502503   0.66909   0.58316       0.0    0.021381   \n\n                     P4_ST_TT01  attack  attack_P1  attack_P2  attack_P3  \ntime                                                                      \n2019-10-29 11:00:00         1.0       0          0          0          0  \n\n[1 rows x 63 columns]",
      "text/html": "<div>\n<style scoped>\n    .dataframe tbody tr th:only-of-type {\n        vertical-align: middle;\n    }\n\n    .dataframe tbody tr th {\n        vertical-align: top;\n    }\n\n    .dataframe thead th {\n        text-align: right;\n    }\n</style>\n<table border=\"1\" class=\"dataframe\">\n  <thead>\n    <tr style=\"text-align: right;\">\n      <th></th>\n      <th>P1_B2004</th>\n      <th>P1_B2016</th>\n      <th>P1_B3004</th>\n      <th>P1_B3005</th>\n      <th>P1_B4002</th>\n      <th>P1_B4005</th>\n      <th>P1_B400B</th>\n      <th>P1_B4022</th>\n      <th>P1_FCV01D</th>\n      <th>P1_FCV01Z</th>\n      <th>...</th>\n      <th>P4_ST_FD</th>\n      <th>P4_ST_LD</th>\n      <th>P4_ST_PO</th>\n      <th>P4_ST_PS</th>\n      <th>P4_ST_PT01</th>\n      <th>P4_ST_TT01</th>\n      <th>attack</th>\n      <th>attack_P1</th>\n      <th>attack_P2</th>\n      <th>attack_P3</th>\n    </tr>\n    <tr>\n      <th>time</th>\n      <th></th>\n      <th></th>\n      <th></th>\n      <th></th>\n      <th></th>\n      <th></th>\n      <th></th>\n      <th></th>\n      <th></th>\n      <th></th>\n      <th></th>\n      <th></th>\n      <th></th>\n      <th></th>\n      <th></th>\n      <th></th>\n      <th></th>\n      <th></th>\n      <th></th>\n      <th></th>\n      <th></th>\n    </tr>\n  </thead>\n  <tbody>\n    <tr>\n      <th>2019-10-29 11:00:00</th>\n      <td>0.949509</td>\n      <td>0.583314</td>\n      <td>0.863839</td>\n      <td>0.901928</td>\n      <td>1.0</td>\n      <td>0.0</td>\n      <td>0.031333</td>\n      <td>0.778295</td>\n      <td>0.092526</td>\n      <td>0.094568</td>\n      <td>...</td>\n      <td>0.502503</td>\n      <td>0.66909</td>\n      <td>0.58316</td>\n      <td>0.0</td>\n      <td>0.021381</td>\n      <td>1.0</td>\n      <td>0</td>\n      <td>0</td>\n      <td>0</td>\n      <td>0</td>\n    </tr>\n  </tbody>\n</table>\n<p>1 rows × 63 columns</p>\n</div>"
     },
     "metadata": {},
     "execution_count": 176
    }
   ],
   "source": [
    "testset1.head(1)"
   ]
  },
  {
   "cell_type": "code",
   "execution_count": 177,
   "metadata": {},
   "outputs": [
    {
     "output_type": "execute_result",
     "data": {
      "text/plain": "                     P1_B2004  P1_B2016  P1_B3004  P1_B3005  P1_B4002  \\\ntime                                                                    \n2019-11-04 15:00:00  0.977685  0.613739  0.021004  0.999752       0.0   \n\n                     P1_B4005  P1_B400B  P1_B4022  P1_FCV01D  P1_FCV01Z  ...  \\\ntime                                                                     ...   \n2019-11-04 15:00:00       0.0  0.006942  0.236188        0.0   0.000151  ...   \n\n                     P4_ST_FD  P4_ST_LD  P4_ST_PO  P4_ST_PS  P4_ST_PT01  \\\ntime                                                                      \n2019-11-04 15:00:00  0.485577  0.516198  0.549594       0.0    0.529674   \n\n                     P4_ST_TT01  attack  attack_P1  attack_P2  attack_P3  \ntime                                                                      \n2019-11-04 15:00:00    0.641256       0          0          0          0  \n\n[1 rows x 63 columns]",
      "text/html": "<div>\n<style scoped>\n    .dataframe tbody tr th:only-of-type {\n        vertical-align: middle;\n    }\n\n    .dataframe tbody tr th {\n        vertical-align: top;\n    }\n\n    .dataframe thead th {\n        text-align: right;\n    }\n</style>\n<table border=\"1\" class=\"dataframe\">\n  <thead>\n    <tr style=\"text-align: right;\">\n      <th></th>\n      <th>P1_B2004</th>\n      <th>P1_B2016</th>\n      <th>P1_B3004</th>\n      <th>P1_B3005</th>\n      <th>P1_B4002</th>\n      <th>P1_B4005</th>\n      <th>P1_B400B</th>\n      <th>P1_B4022</th>\n      <th>P1_FCV01D</th>\n      <th>P1_FCV01Z</th>\n      <th>...</th>\n      <th>P4_ST_FD</th>\n      <th>P4_ST_LD</th>\n      <th>P4_ST_PO</th>\n      <th>P4_ST_PS</th>\n      <th>P4_ST_PT01</th>\n      <th>P4_ST_TT01</th>\n      <th>attack</th>\n      <th>attack_P1</th>\n      <th>attack_P2</th>\n      <th>attack_P3</th>\n    </tr>\n    <tr>\n      <th>time</th>\n      <th></th>\n      <th></th>\n      <th></th>\n      <th></th>\n      <th></th>\n      <th></th>\n      <th></th>\n      <th></th>\n      <th></th>\n      <th></th>\n      <th></th>\n      <th></th>\n      <th></th>\n      <th></th>\n      <th></th>\n      <th></th>\n      <th></th>\n      <th></th>\n      <th></th>\n      <th></th>\n      <th></th>\n    </tr>\n  </thead>\n  <tbody>\n    <tr>\n      <th>2019-11-04 15:00:00</th>\n      <td>0.977685</td>\n      <td>0.613739</td>\n      <td>0.021004</td>\n      <td>0.999752</td>\n      <td>0.0</td>\n      <td>0.0</td>\n      <td>0.006942</td>\n      <td>0.236188</td>\n      <td>0.0</td>\n      <td>0.000151</td>\n      <td>...</td>\n      <td>0.485577</td>\n      <td>0.516198</td>\n      <td>0.549594</td>\n      <td>0.0</td>\n      <td>0.529674</td>\n      <td>0.641256</td>\n      <td>0</td>\n      <td>0</td>\n      <td>0</td>\n      <td>0</td>\n    </tr>\n  </tbody>\n</table>\n<p>1 rows × 63 columns</p>\n</div>"
     },
     "metadata": {},
     "execution_count": 177
    }
   ],
   "source": [
    "testset2.head(1)"
   ]
  },
  {
   "cell_type": "code",
   "execution_count": null,
   "metadata": {},
   "outputs": [],
   "source": [
    "attack_P1, P1\n",
    "['P1_FCV03D','P1_FCV03Z','P1_FT01','P1_FT01Z','P1_LCV01D','P1_LCV01Z','P1_PCV01D','P1_PCV01Z','P1_PIT01','P1_TIT01']\n",
    "attack_P2, P2\n",
    "['P2_SIT01','P2_VT01e','P2_VXT02','P2_VXT03','P2_VYT02','P2_VYT03']\n",
    "attack_P3, P3\n",
    "['P3_LCP01D']\n",
    "attack_P1, P4\n",
    "['P4_ST_PT01']"
   ]
  },
  {
   "cell_type": "code",
   "execution_count": 147,
   "metadata": {},
   "outputs": [
    {
     "output_type": "execute_result",
     "data": {
      "text/plain": "attack        1.000000\nP1_LCV01D     0.244757\nP1_LCV01Z     0.234201\nP1_FT01       0.120438\nP2_VXT03      0.083935\nP1_FCV03D     0.076803\nP1_FCV03Z     0.071992\nP2_VYT03      0.059328\nP2_VXT02      0.048502\nP2_VYT02      0.042249\nP3_LCP01D     0.029564\nP2_VT01e      0.021973\nP1_PCV01Z    -0.037095\nP1_PCV01D    -0.038175\nP1_TIT01     -0.044420\nP1_FT01Z     -0.048789\nP4_ST_PT01   -0.071041\nP1_PIT01     -0.108248\nP2_SIT01     -0.279366\nName: attack, dtype: float64"
     },
     "metadata": {},
     "execution_count": 147
    }
   ],
   "source": [
    "corr = extract.corr()\n",
    "corr.attack.sort_values(ascending=False)"
   ]
  },
  {
   "cell_type": "code",
   "execution_count": 149,
   "metadata": {},
   "outputs": [],
   "source": [
    "extract1 = testset1.copy()\n",
    "extract1 = extract1[['P1_FCV03D','P1_FCV03Z','P1_FT01','P1_FT01Z','P1_LCV01D','P1_LCV01Z','P1_PCV01D','P1_PCV01Z','P1_PIT01','P1_TIT01',\n",
    "'P2_SIT01','P2_VT01e','P2_VXT02','P2_VXT03','P2_VYT02','P2_VYT03','P3_LCP01D','P4_ST_PT01','attack']]\n",
    "extract2 = testset2.copy()\n",
    "extract2 = extract2[['P1_FCV03D','P1_FCV03Z','P1_FT01','P1_FT01Z','P1_LCV01D','P1_LCV01Z','P1_PCV01D','P1_PCV01Z','P1_PIT01','P1_TIT01',\n",
    "'P2_SIT01','P2_VT01e','P2_VXT02','P2_VXT03','P2_VYT02','P2_VYT03','P3_LCP01D','P4_ST_PT01','attack']]"
   ]
  },
  {
   "cell_type": "markdown",
   "metadata": {},
   "source": [
    "### 데이터셋 나누기"
   ]
  },
  {
   "cell_type": "code",
   "execution_count": 150,
   "metadata": {},
   "outputs": [
    {
     "output_type": "execute_result",
     "data": {
      "text/plain": "((291600, 18), (291600,), (153000, 18), (153000,))"
     },
     "metadata": {},
     "execution_count": 150
    }
   ],
   "source": [
    "trainset = extract1.copy()\n",
    "features = trainset.drop('attack', axis=1)\n",
    "labels = trainset['attack']\n",
    "\n",
    "predset = extract2.copy()\n",
    "preds = predset.drop('attack', axis=1)\n",
    "pred_label = predset['attack']\n",
    "\n",
    "np.shape(features), np.shape(labels), np.shape(preds), np.shape(pred_label)"
   ]
  },
  {
   "cell_type": "code",
   "execution_count": 151,
   "metadata": {},
   "outputs": [],
   "source": [
    "from sklearn.metrics import classification_report\n",
    "from sklearn.metrics import confusion_matrix\n",
    "from sklearn.dummy import DummyClassifier"
   ]
  },
  {
   "cell_type": "code",
   "execution_count": 152,
   "metadata": {},
   "outputs": [],
   "source": [
    "dummy = DummyClassifier(strategy='most_frequent').fit(features, labels)\n",
    "pred_dummy = dummy.predict(preds)"
   ]
  },
  {
   "cell_type": "code",
   "execution_count": 153,
   "metadata": {
    "tags": []
   },
   "outputs": [
    {
     "output_type": "stream",
     "name": "stdout",
     "text": "precision    recall  f1-score   support\n\n           0       0.89      0.14      0.24    147011\n           1       0.03      0.60      0.05      5989\n\n    accuracy                           0.16    153000\n   macro avg       0.46      0.37      0.15    153000\nweighted avg       0.86      0.16      0.23    153000\n\n-----------------------------------\nDummy model:\n[[147011      0]\n [  5989      0]]\nDecision tree:\n[[ 20407 126604]\n [  2412   3577]]\n"
    }
   ],
   "source": [
    "# decision tree 로 모델링\n",
    "from sklearn.tree import DecisionTreeClassifier\n",
    "tree = DecisionTreeClassifier(max_depth=5, random_state=0); tree.fit(features, labels)\n",
    "pred_tree = tree.predict(preds); print(classification_report(pred_label, pred_tree))\n",
    "print(\"-----------------------------------\")\n",
    "print(\"Dummy model:\"); print(confusion_matrix(pred_label, pred_dummy))\n",
    "print(\"Decision tree:\"); print(confusion_matrix(pred_label, pred_tree))"
   ]
  },
  {
   "cell_type": "code",
   "execution_count": 156,
   "metadata": {
    "tags": []
   },
   "outputs": [
    {
     "output_type": "stream",
     "name": "stderr",
     "text": "Using TensorFlow backend.\n(560072, 18) (291600, 18) (560072,) (291600,)\n"
    },
    {
     "output_type": "error",
     "ename": "NameError",
     "evalue": "name 'pred_labels' is not defined",
     "traceback": [
      "\u001b[0;31m---------------------------------------------------------------------------\u001b[0m",
      "\u001b[0;31mNameError\u001b[0m                                 Traceback (most recent call last)",
      "\u001b[0;32m<ipython-input-156-e0b171c3e4d5>\u001b[0m in \u001b[0;36m<module>\u001b[0;34m\u001b[0m\n\u001b[1;32m      4\u001b[0m \u001b[0;34m\u001b[0m\u001b[0m\n\u001b[1;32m      5\u001b[0m \u001b[0mpred_X_resampled\u001b[0m\u001b[0;34m,\u001b[0m \u001b[0mpred_y_resampled\u001b[0m \u001b[0;34m=\u001b[0m \u001b[0mSMOTETomek\u001b[0m\u001b[0;34m(\u001b[0m\u001b[0mrandom_state\u001b[0m\u001b[0;34m=\u001b[0m\u001b[0;36m0\u001b[0m\u001b[0;34m)\u001b[0m\u001b[0;34m.\u001b[0m\u001b[0mfit_sample\u001b[0m\u001b[0;34m(\u001b[0m\u001b[0mpreds\u001b[0m\u001b[0;34m,\u001b[0m \u001b[0mpred_label\u001b[0m\u001b[0;34m)\u001b[0m\u001b[0;34m\u001b[0m\u001b[0;34m\u001b[0m\u001b[0m\n\u001b[0;32m----> 6\u001b[0;31m \u001b[0mprint\u001b[0m\u001b[0;34m(\u001b[0m\u001b[0mpred_X_resampled\u001b[0m\u001b[0;34m.\u001b[0m\u001b[0mshape\u001b[0m\u001b[0;34m,\u001b[0m \u001b[0mpreds\u001b[0m\u001b[0;34m.\u001b[0m\u001b[0mshape\u001b[0m\u001b[0;34m,\u001b[0m \u001b[0mpred_y_resampled\u001b[0m\u001b[0;34m.\u001b[0m\u001b[0mshape\u001b[0m\u001b[0;34m,\u001b[0m \u001b[0mpred_labels\u001b[0m\u001b[0;34m.\u001b[0m\u001b[0mshape\u001b[0m\u001b[0;34m)\u001b[0m\u001b[0;34m\u001b[0m\u001b[0;34m\u001b[0m\u001b[0m\n\u001b[0m",
      "\u001b[0;31mNameError\u001b[0m: name 'pred_labels' is not defined"
     ]
    }
   ],
   "source": [
    "from imblearn.combine import SMOTETomek\n",
    "X_resampled, y_resampled = SMOTETomek(random_state=0).fit_sample(features, labels)\n",
    "print(X_resampled.shape, features.shape, y_resampled.shape, labels.shape)"
   ]
  },
  {
   "cell_type": "code",
   "execution_count": 161,
   "metadata": {},
   "outputs": [],
   "source": [
    "dummy = DummyClassifier(strategy='most_frequent').fit(X_resampled, y_resampled)\n",
    "pred_dummy = dummy.predict(preds)"
   ]
  },
  {
   "cell_type": "code",
   "execution_count": 162,
   "metadata": {
    "tags": []
   },
   "outputs": [
    {
     "output_type": "stream",
     "name": "stdout",
     "text": "precision    recall  f1-score   support\n\n           0       0.98      0.13      0.23    147011\n           1       0.04      0.92      0.08      5989\n\n    accuracy                           0.16    153000\n   macro avg       0.51      0.53      0.16    153000\nweighted avg       0.94      0.16      0.23    153000\n\n-----------------------------------\nDummy model:\n[[147011      0]\n [  5989      0]]\nDecision tree:\n[[ 19613 127398]\n [   459   5530]]\n"
    }
   ],
   "source": [
    "# decision tree 로 모델링\n",
    "from sklearn.tree import DecisionTreeClassifier\n",
    "tree = DecisionTreeClassifier(max_depth=5, random_state=0)\n",
    "tree.fit(X_resampled, y_resampled)\n",
    "pred_tree = tree.predict(preds)\n",
    "\n",
    "print(classification_report(pred_label, pred_tree))\n",
    "print(\"-----------------------------------\")\n",
    "print(\"Dummy model:\"); print(confusion_matrix(pred_label, pred_dummy))\n",
    "print(\"Decision tree:\"); print(confusion_matrix(pred_label, pred_tree))"
   ]
  },
  {
   "cell_type": "code",
   "execution_count": null,
   "metadata": {},
   "outputs": [],
   "source": []
  }
 ]
}